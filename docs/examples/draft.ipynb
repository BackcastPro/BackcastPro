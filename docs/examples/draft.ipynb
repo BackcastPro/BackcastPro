{
 "cells": [
  {
   "cell_type": "code",
   "execution_count": 2,
   "metadata": {},
   "outputs": [
    {
     "data": {
      "text/html": [
       "<div>\n",
       "<style scoped>\n",
       "    .dataframe tbody tr th:only-of-type {\n",
       "        vertical-align: middle;\n",
       "    }\n",
       "\n",
       "    .dataframe tbody tr th {\n",
       "        vertical-align: top;\n",
       "    }\n",
       "\n",
       "    .dataframe thead th {\n",
       "        text-align: right;\n",
       "    }\n",
       "</style>\n",
       "<table border=\"1\" class=\"dataframe\">\n",
       "  <thead>\n",
       "    <tr style=\"text-align: right;\">\n",
       "      <th></th>\n",
       "      <th>Open</th>\n",
       "      <th>High</th>\n",
       "      <th>Low</th>\n",
       "      <th>Close</th>\n",
       "      <th>Volume</th>\n",
       "    </tr>\n",
       "    <tr>\n",
       "      <th>Date</th>\n",
       "      <th></th>\n",
       "      <th></th>\n",
       "      <th></th>\n",
       "      <th></th>\n",
       "      <th></th>\n",
       "    </tr>\n",
       "  </thead>\n",
       "  <tbody>\n",
       "    <tr>\n",
       "      <th>2020-10-06</th>\n",
       "      <td>1238.33</td>\n",
       "      <td>1251.77</td>\n",
       "      <td>1234.39</td>\n",
       "      <td>1247.11</td>\n",
       "      <td>26279586</td>\n",
       "    </tr>\n",
       "    <tr>\n",
       "      <th>2020-10-05</th>\n",
       "      <td>1250.69</td>\n",
       "      <td>1251.59</td>\n",
       "      <td>1234.21</td>\n",
       "      <td>1238.33</td>\n",
       "      <td>22468929</td>\n",
       "    </tr>\n",
       "    <tr>\n",
       "      <th>2020-10-02</th>\n",
       "      <td>1240.30</td>\n",
       "      <td>1255.17</td>\n",
       "      <td>1229.90</td>\n",
       "      <td>1235.11</td>\n",
       "      <td>27310640</td>\n",
       "    </tr>\n",
       "    <tr>\n",
       "      <th>2020-09-30</th>\n",
       "      <td>1256.42</td>\n",
       "      <td>1268.80</td>\n",
       "      <td>1241.91</td>\n",
       "      <td>1242.46</td>\n",
       "      <td>30419980</td>\n",
       "    </tr>\n",
       "    <tr>\n",
       "      <th>2020-09-29</th>\n",
       "      <td>1272.39</td>\n",
       "      <td>1283.32</td>\n",
       "      <td>1266.84</td>\n",
       "      <td>1274.88</td>\n",
       "      <td>32617663</td>\n",
       "    </tr>\n",
       "  </tbody>\n",
       "</table>\n",
       "</div>"
      ],
      "text/plain": [
       "               Open     High      Low    Close    Volume\n",
       "Date                                                    \n",
       "2020-10-06  1238.33  1251.77  1234.39  1247.11  26279586\n",
       "2020-10-05  1250.69  1251.59  1234.21  1238.33  22468929\n",
       "2020-10-02  1240.30  1255.17  1229.90  1235.11  27310640\n",
       "2020-09-30  1256.42  1268.80  1241.91  1242.46  30419980\n",
       "2020-09-29  1272.39  1283.32  1266.84  1274.88  32617663"
      ]
     },
     "execution_count": 2,
     "metadata": {},
     "output_type": "execute_result"
    }
   ],
   "source": [
    "import pandas_datareader.data as web\n",
    "\n",
    "df = web.DataReader('7203.JP', 'stooq')\n",
    "df.tail()"
   ]
  },
  {
   "cell_type": "code",
   "execution_count": null,
   "metadata": {},
   "outputs": [],
   "source": []
  }
 ],
 "metadata": {
  "jupytext": {
   "text_representation": {
    "format_version": "1.1"
   }
  },
  "kernelspec": {
   "display_name": "base",
   "language": "python",
   "name": "python3"
  },
  "language_info": {
   "codemirror_mode": {
    "name": "ipython",
    "version": 3
   },
   "file_extension": ".py",
   "mimetype": "text/x-python",
   "name": "python",
   "nbconvert_exporter": "python",
   "pygments_lexer": "ipython3",
   "version": "3.12.3"
  }
 },
 "nbformat": 4,
 "nbformat_minor": 2
}
